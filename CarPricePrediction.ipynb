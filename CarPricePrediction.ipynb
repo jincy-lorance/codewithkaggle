{
  "nbformat": 4,
  "nbformat_minor": 0,
  "metadata": {
    "colab": {
      "name": "CarPricePrediction.ipynb",
      "provenance": [],
      "collapsed_sections": [],
      "authorship_tag": "ABX9TyO+4h4KBiw3JhzTI4uDTrXp",
      "include_colab_link": true
    },
    "kernelspec": {
      "name": "python3",
      "display_name": "Python 3"
    },
    "language_info": {
      "name": "python"
    }
  },
  "cells": [
    {
      "cell_type": "markdown",
      "metadata": {
        "id": "view-in-github",
        "colab_type": "text"
      },
      "source": [
        "<a href=\"https://colab.research.google.com/github/jincy-lorance/codewithkaggle/blob/main/CarPricePrediction.ipynb\" target=\"_parent\"><img src=\"https://colab.research.google.com/assets/colab-badge.svg\" alt=\"Open In Colab\"/></a>"
      ]
    },
    {
      "cell_type": "markdown",
      "source": [
        "## Car Price Prediction"
      ],
      "metadata": {
        "id": "AA5165ELYsjy"
      }
    },
    {
      "cell_type": "markdown",
      "source": [
        "Problem Statement\n",
        "A Chinese automobile company Geely Auto aspires to enter the US market by setting up their manufacturing unit there and producing cars locally to give competition to their US and European counterparts.\n",
        "\n",
        "They have contracted an automobile consulting company to understand the factors on which the pricing of cars depends. Specifically, they want to understand the factors affecting the pricing of cars in the American market, since those may be very different from the Chinese market. The company wants to know:\n",
        "\n",
        "- Which variables are significant in predicting the price of a car\n",
        "- How well those variables describe the price of a car\n",
        "\n",
        "Based on various market surveys, the consulting firm has gathered a large dataset of different types of cars across the Americal market.\n",
        "\n"
      ],
      "metadata": {
        "id": "nVpyrCamY0sv"
      }
    },
    {
      "cell_type": "markdown",
      "source": [
        "Business Goal\n",
        "You are required to model the price of cars with the available independent variables. It will be used by the management to understand how exactly the prices vary with the independent variables. They can accordingly manipulate the design of the cars, the business strategy etc. to meet certain price levels. Further, the model will be a good way for management to understand the pricing dynamics of a new market."
      ],
      "metadata": {
        "id": "4LQS3LAeZTIv"
      }
    },
    {
      "cell_type": "code",
      "source": [
        "import warnings\n",
        "warnings.filterwarnings('ignore')\n",
        "\n",
        "#importing the libraries\n",
        "import numpy as np\n",
        "import pandas as pd\n",
        "import matplotlib.pyplot as plt\n",
        "import seaborn as sns\n"
      ],
      "metadata": {
        "id": "pCLBlV6RYwcQ"
      },
      "execution_count": 1,
      "outputs": []
    },
    {
      "cell_type": "markdown",
      "source": [
        "Step 1: Reading and Understanding the Data\n",
        "Let's start with the following steps:\n",
        "\n",
        "Importing data using the pandas library\n",
        "Understanding the structure of the data\n"
      ],
      "metadata": {
        "id": "ng83FKV3ZswA"
      }
    },
    {
      "cell_type": "code",
      "execution_count": null,
      "metadata": {
        "id": "7Bq9BcexXD8J"
      },
      "outputs": [],
      "source": [
        "cars = pd.read_csv('/CarPrice_Assignment.csv')\n",
        "cars.head()"
      ]
    },
    {
      "cell_type": "code",
      "source": [
        "cars.shape"
      ],
      "metadata": {
        "id": "K3wq2x_Jahpl"
      },
      "execution_count": null,
      "outputs": []
    },
    {
      "cell_type": "code",
      "source": [
        "cars.describe()"
      ],
      "metadata": {
        "id": "qIM7FzMtaqyg"
      },
      "execution_count": null,
      "outputs": []
    },
    {
      "cell_type": "code",
      "source": [
        "cars.info()"
      ],
      "metadata": {
        "id": "A5fMwVXAbI4t"
      },
      "execution_count": null,
      "outputs": []
    },
    {
      "cell_type": "markdown",
      "source": [
        "Step 2 : Data Cleaning and Preparation"
      ],
      "metadata": {
        "id": "R4FJi3DdbZZF"
      }
    },
    {
      "cell_type": "code",
      "source": [
        "#Splitting company name from CarName column\n",
        "CompanyName = cars['CarName'].apply(lambda x : x.split(' ')[0])\n",
        "cars.insert(3,\"CompanyName\",CompanyName)\n",
        "cars.drop(['CarName'],axis=1,inplace=True)\n",
        "cars.head()"
      ],
      "metadata": {
        "id": "P_ZVdfqgbUhP"
      },
      "execution_count": null,
      "outputs": []
    },
    {
      "cell_type": "code",
      "source": [
        "cars.CompanyName.unique()"
      ],
      "metadata": {
        "id": "N8r2ndQob05z"
      },
      "execution_count": null,
      "outputs": []
    },
    {
      "cell_type": "markdown",
      "source": [
        "Fixing invalid values\n",
        "\n",
        "There seems to be some spelling error in the CompanyName column.\n",
        "\n",
        "maxda = mazda\n",
        "Nissan = nissan\n",
        "porsche = porcshce\n",
        "toyota = toyouta\n",
        "vokswagen = volkswagen = vw"
      ],
      "metadata": {
        "id": "UBuYxSLfcBDm"
      }
    },
    {
      "cell_type": "code",
      "source": [
        "cars.CompanyName = cars.CompanyName.str.lower()\n",
        "\n",
        "def replace_name(a,b):\n",
        "    cars.CompanyName.replace(a,b,inplace=True)\n",
        "\n",
        "replace_name('maxda','mazda')\n",
        "replace_name('porcshce','porsche')\n",
        "replace_name('toyouta','toyota')\n",
        "replace_name('vokswagen','volkswagen')\n",
        "replace_name('vw','volkswagen')\n",
        "\n",
        "cars.CompanyName.unique()"
      ],
      "metadata": {
        "id": "rMJa9NWNb9FF"
      },
      "execution_count": null,
      "outputs": []
    },
    {
      "cell_type": "code",
      "source": [
        "#Checking for duplicates\n",
        "cars.loc[cars.duplicated()]"
      ],
      "metadata": {
        "id": "_3N-cFodcmBp"
      },
      "execution_count": null,
      "outputs": []
    },
    {
      "cell_type": "code",
      "source": [
        "cars.columns"
      ],
      "metadata": {
        "id": "kFc9uw40c2oG"
      },
      "execution_count": null,
      "outputs": []
    },
    {
      "cell_type": "markdown",
      "source": [
        "# Step 3: Visualizing the data"
      ],
      "metadata": {
        "id": "OkYIr2cVdBsQ"
      }
    },
    {
      "cell_type": "code",
      "source": [
        "plt.figure(figsize=(20,8))\n",
        "\n",
        "plt.subplot(1,2,1)\n",
        "plt.title('Car Price Distribution Plot')\n",
        "sns.distplot(cars.price)\n",
        "\n",
        "plt.subplot(1,2,2)\n",
        "plt.title('Car Price Spread')\n",
        "sns.boxplot(y=cars.price)\n",
        "\n",
        "plt.show()\n"
      ],
      "metadata": {
        "id": "VH2-L0xjc8el"
      },
      "execution_count": null,
      "outputs": []
    },
    {
      "cell_type": "code",
      "source": [
        "print(cars.price.describe(percentiles = [0.25,0.50,0.75,0.85,0.90,1]))"
      ],
      "metadata": {
        "id": "Daf5AgU9dYGo"
      },
      "execution_count": null,
      "outputs": []
    },
    {
      "cell_type": "markdown",
      "source": [
        "Inference :\n",
        "The plot seemed to be right-skewed, meaning that the most prices in the dataset are low(Below 15,000).\n",
        "There is a significant difference between the mean and the median of the price distribution.\n",
        "The data points are far spread out from the mean, which indicates a high variance in the car prices.(85% of the prices are below 18,500, whereas the remaining 15% are between 18,500 and 45,400.)"
      ],
      "metadata": {
        "id": "uoyA77esdjSL"
      }
    },
    {
      "cell_type": "markdown",
      "source": [
        "Step 3.1 : Visualising Categorical Data\n",
        "- CompanyName\n",
        "- Symboling\n",
        "- fueltype\n",
        "- enginetype\n",
        "- carbody\n",
        "- doornumber\n",
        "- enginelocation\n",
        "- fuelsystem\n",
        "- cylindernumber\n",
        "- aspiration\n",
        "- drivewheel\n"
      ],
      "metadata": {
        "id": "Idx3_L5udl4v"
      }
    },
    {
      "cell_type": "code",
      "source": [
        "plt.figure(figsize=(25, 6))\n",
        "\n",
        "plt.subplot(1,3,1)\n",
        "plt1 = cars.CompanyName.value_counts().plot(kind='bar')\n",
        "plt.title('Companies Histogram')\n",
        "plt1.set(xlabel = 'Car company', ylabel='Frequency of company')\n",
        "\n",
        "plt.subplot(1,3,2)\n",
        "plt1 = cars.fueltype.value_counts().plot(kind='bar')\n",
        "plt.title('Fuel Type Histogram')\n",
        "plt1.set(xlabel = 'Fuel Type', ylabel='Frequency of fuel type')\n",
        "\n",
        "plt.subplot(1,3,3)\n",
        "plt1 = cars.carbody.value_counts().plot(kind='bar')\n",
        "plt.title('Car Type Histogram')\n",
        "plt1.set(xlabel = 'Car Type', ylabel='Frequency of Car type')\n",
        "\n",
        "plt.show()\n"
      ],
      "metadata": {
        "id": "JusbZyg8dc8G"
      },
      "execution_count": null,
      "outputs": []
    },
    {
      "cell_type": "markdown",
      "source": [
        "Inference :\n",
        "\n",
        "1. Toyota seemed to be favored car company.\n",
        "\n",
        "2. Number of gas fueled cars are more than diesel.\n",
        "\n",
        "3. sedan is the top car type prefered."
      ],
      "metadata": {
        "id": "va5yPySrebet"
      }
    },
    {
      "cell_type": "code",
      "source": [
        "plt.figure(figsize=(20,8))\n",
        "\n",
        "plt.subplot(1,2,1)\n",
        "plt.title('Symboling Histogram')\n",
        "sns.countplot(cars.symboling, palette=(\"cubehelix\"))\n",
        "\n",
        "plt.subplot(1,2,2)\n",
        "plt.title('Symboling vs Price')\n",
        "sns.boxplot(x=cars.symboling, y=cars.price, palette=(\"cubehelix\"))\n",
        "\n",
        "plt.show()\n"
      ],
      "metadata": {
        "id": "aNzYhvgReMFU"
      },
      "execution_count": null,
      "outputs": []
    },
    {
      "cell_type": "markdown",
      "source": [
        "Inference :\n",
        "\n",
        "It seems that the symboling with 0 and 1 values have high number of rows (i.e. They are most sold.)\n",
        "\n",
        "The cars with -1 symboling seems to be high priced (as it makes sense too, insurance risk rating -1 is quite good). But it seems that symboling with 3 value has the price range similar to -2 value. There is a dip in price at symboling 1."
      ],
      "metadata": {
        "id": "utsiYMWtfBtf"
      }
    },
    {
      "cell_type": "code",
      "source": [
        "plt.figure(figsize=(20,8))\n",
        "\n",
        "plt.subplot(1,2,1)\n",
        "plt.title('Engine Type Histogram')\n",
        "sns.countplot(cars.enginetype, palette=(\"Blues_d\"))\n",
        "\n",
        "plt.subplot(1,2,2)\n",
        "plt.title('Engine Type vs Price')\n",
        "sns.boxplot(x=cars.enginetype, y=cars.price, palette=(\"PuBuGn\"))\n",
        "\n",
        "plt.show()\n",
        "\n",
        "df = pd.DataFrame(cars.groupby(['enginetype'])['price'].mean().sort_values(ascending = False))\n",
        "df.plot.bar(figsize=(8,6))\n",
        "plt.title('Engine Type vs Average Price')\n",
        "plt.show()"
      ],
      "metadata": {
        "id": "x48BoaHXe8U7"
      },
      "execution_count": null,
      "outputs": []
    },
    {
      "cell_type": "markdown",
      "source": [
        "Inference :\n",
        "\n",
        "ohc Engine type seems to be most favored type.\n",
        "ohcv has the highest price range (While dohcv has only one row), ohc and ohcf have the low price range."
      ],
      "metadata": {
        "id": "OWQuqE6PfDDA"
      }
    },
    {
      "cell_type": "code",
      "source": [
        "plt.figure(figsize=(25, 6))\n",
        "\n",
        "df = pd.DataFrame(cars.groupby(['CompanyName'])['price'].mean().sort_values(ascending = False))\n",
        "df.plot.bar()\n",
        "plt.title('Company Name vs Average Price')\n",
        "plt.show()\n",
        "\n",
        "df = pd.DataFrame(cars.groupby(['fueltype'])['price'].mean().sort_values(ascending = False))\n",
        "df.plot.bar()\n",
        "plt.title('Fuel Type vs Average Price')\n",
        "plt.show()\n",
        "\n",
        "df = pd.DataFrame(cars.groupby(['carbody'])['price'].mean().sort_values(ascending = False))\n",
        "df.plot.bar()\n",
        "plt.title('Car Type vs Average Price')\n",
        "plt.show()"
      ],
      "metadata": {
        "id": "p2CKl3zAfgQY"
      },
      "execution_count": null,
      "outputs": []
    },
    {
      "cell_type": "markdown",
      "source": [
        "Inference :¶\n",
        "\n",
        "Jaguar and Buick seem to have highest average price.\n",
        "\n",
        "diesel has higher average price than gas.\n",
        "\n",
        "hardtop and convertible have higher average price."
      ],
      "metadata": {
        "id": "lz7A-DLKft6b"
      }
    },
    {
      "cell_type": "code",
      "source": [
        "plt.figure(figsize=(15,5))\n",
        "\n",
        "plt.subplot(1,2,1)\n",
        "plt.title('Door Number Histogram')\n",
        "sns.countplot(cars.doornumber, palette=(\"plasma\"))\n",
        "\n",
        "plt.subplot(1,2,2)\n",
        "plt.title('Door Number vs Price')\n",
        "sns.boxplot(x=cars.doornumber, y=cars.price, palette=(\"plasma\"))\n",
        "\n",
        "plt.show()\n",
        "\n",
        "plt.figure(figsize=(15,5))\n",
        "\n",
        "plt.subplot(1,2,1)\n",
        "plt.title('Aspiration Histogram')\n",
        "sns.countplot(cars.aspiration, palette=(\"plasma\"))\n",
        "\n",
        "plt.subplot(1,2,2)\n",
        "plt.title('Aspiration vs Price')\n",
        "sns.boxplot(x=cars.aspiration, y=cars.price, palette=(\"plasma\"))\n",
        "\n",
        "plt.show()\n"
      ],
      "metadata": {
        "id": "58myYYi7fxd_"
      },
      "execution_count": null,
      "outputs": []
    },
    {
      "cell_type": "markdown",
      "source": [
        "Inference :\n",
        "\n",
        "doornumber variable is not affacting the price much. There is no sugnificant difference between the categories in it.\n",
        "\n",
        "It seems aspiration with turbo have higher price range than the std(though it has some high values outside the whiskers.)"
      ],
      "metadata": {
        "id": "lVtRE1xzgDqF"
      }
    },
    {
      "cell_type": "code",
      "source": [
        "def plot_count(x,fig):\n",
        "    plt.subplot(4,2,fig)\n",
        "    plt.title(x+' Histogram')\n",
        "    sns.countplot(cars[x],palette=(\"magma\"))\n",
        "    plt.subplot(4,2,(fig+1))\n",
        "    plt.title(x+' vs Price')\n",
        "    sns.boxplot(x=cars[x], y=cars.price, palette=(\"magma\"))\n",
        "    \n",
        "plt.figure(figsize=(15,20))\n",
        "\n",
        "plot_count('enginelocation', 1)\n",
        "plot_count('cylindernumber', 3)\n",
        "plot_count('fuelsystem', 5)\n",
        "plot_count('drivewheel', 7)\n",
        "\n",
        "plt.tight_layout()"
      ],
      "metadata": {
        "id": "Wp5tj4DlgHmn"
      },
      "execution_count": null,
      "outputs": []
    },
    {
      "cell_type": "markdown",
      "source": [
        "Inference :¶\n",
        "\n",
        "Very few datapoints for enginelocation categories to make an inference.\n",
        "\n",
        "Most common number of cylinders are four, six and five. Though eight cylinders have the highest price range.\n",
        "\n",
        "mpfi and 2bbl are most common type of fuel systems. mpfi and idi having the highest price range. But there are few data for other categories to derive any meaningful inference\n",
        "\n",
        "A very significant difference in drivewheel category. Most high ranged cars seeme to prefer rwd drivewheel."
      ],
      "metadata": {
        "id": "DiU3Aex_gaFk"
      }
    },
    {
      "cell_type": "markdown",
      "source": [
        "Step 3.2 : Visualising numerical data¶"
      ],
      "metadata": {
        "id": "JYZf5gtggngb"
      }
    },
    {
      "cell_type": "code",
      "source": [
        "def scatter(x,fig):\n",
        "    plt.subplot(5,2,fig)\n",
        "    plt.scatter(cars[x],cars['price'])\n",
        "    plt.title(x+' vs Price')\n",
        "    plt.ylabel('Price')\n",
        "    plt.xlabel(x)\n",
        "\n",
        "plt.figure(figsize=(10,20))\n",
        "\n",
        "scatter('carlength', 1)\n",
        "scatter('carwidth', 2)\n",
        "scatter('carheight', 3)\n",
        "scatter('curbweight', 4)\n",
        "\n",
        "plt.tight_layout()"
      ],
      "metadata": {
        "id": "L7mrAkh5gY3l"
      },
      "execution_count": null,
      "outputs": []
    },
    {
      "cell_type": "markdown",
      "source": [
        "Inference :\n",
        "\n",
        "carwidth, carlength and curbweight seems to have a poitive correlation with price.\n",
        "\n",
        "carheight doesn't show any significant trend with price.\n"
      ],
      "metadata": {
        "id": "__6kEbPcg3qr"
      }
    },
    {
      "cell_type": "code",
      "source": [
        "def pp(x,y,z):\n",
        "    sns.pairplot(cars, x_vars=[x,y,z], y_vars='price',size=4, aspect=1, kind='scatter')\n",
        "    plt.show()\n",
        "\n",
        "pp('enginesize', 'boreratio', 'stroke')\n",
        "pp('compressionratio', 'horsepower', 'peakrpm')\n",
        "pp('wheelbase', 'citympg', 'highwaympg')\n"
      ],
      "metadata": {
        "id": "KeJv8hgVgwer"
      },
      "execution_count": null,
      "outputs": []
    },
    {
      "cell_type": "markdown",
      "source": [
        "Inference :¶\n",
        "\n",
        "enginesize, boreratio, horsepower, wheelbase - seem to have a significant positive correlation with price.\n",
        "\n",
        "citympg, highwaympg - seem to have a significant negative correlation with price."
      ],
      "metadata": {
        "id": "tIqV0WCEhTKd"
      }
    },
    {
      "cell_type": "code",
      "source": [
        "np.corrcoef(cars['carlength'], cars['carwidth'])[0, 1]"
      ],
      "metadata": {
        "id": "L-bL_u4ShXJP"
      },
      "execution_count": null,
      "outputs": []
    },
    {
      "cell_type": "markdown",
      "source": [
        "Step 4 : Deriving new features¶"
      ],
      "metadata": {
        "id": "O6Ujap29iVih"
      }
    },
    {
      "cell_type": "code",
      "source": [
        "#Fuel economy\n",
        "cars['fueleconomy'] = (0.55 * cars['citympg']) + (0.45 * cars['highwaympg'])"
      ],
      "metadata": {
        "id": "sCQt8F8Thba3"
      },
      "execution_count": 26,
      "outputs": []
    },
    {
      "cell_type": "code",
      "source": [
        "#Binning the Car Companies based on avg prices of each Company.\n",
        "cars['price'] = cars['price'].astype('int')\n",
        "temp = cars.copy()\n",
        "table = temp.groupby(['CompanyName'])['price'].mean()\n",
        "temp = temp.merge(table.reset_index(), how='left',on='CompanyName')\n",
        "bins = [0,10000,20000,40000]\n",
        "cars_bin=['Budget','Medium','Highend']\n",
        "cars['carsrange'] = pd.cut(temp['price_y'],bins,right=False,labels=cars_bin)\n",
        "cars.head()"
      ],
      "metadata": {
        "id": "xG5YfKn7icaS"
      },
      "execution_count": null,
      "outputs": []
    },
    {
      "cell_type": "markdown",
      "source": [
        "Step 5 : Bivariate Analysis¶"
      ],
      "metadata": {
        "id": "rahF9ea9il3d"
      }
    },
    {
      "cell_type": "code",
      "source": [
        "plt.figure(figsize=(8,6))\n",
        "\n",
        "plt.title('Fuel economy vs Price')\n",
        "sns.scatterplot(x=cars['fueleconomy'],y=cars['price'],hue=cars['drivewheel'])\n",
        "plt.xlabel('Fuel Economy')\n",
        "plt.ylabel('Price')\n",
        "\n",
        "plt.show()\n",
        "plt.tight_layout()"
      ],
      "metadata": {
        "id": "tmp95GgKinF_"
      },
      "execution_count": null,
      "outputs": []
    },
    {
      "cell_type": "markdown",
      "source": [
        "Inference :\n",
        "\n",
        "fueleconomy has an obvios negative correlation with price and is significant."
      ],
      "metadata": {
        "id": "fHilnU1vixmj"
      }
    },
    {
      "cell_type": "code",
      "source": [
        "plt.figure(figsize=(25, 6))\n",
        "\n",
        "df = pd.DataFrame(cars.groupby(['fuelsystem','drivewheel','carsrange'])['price'].mean().unstack(fill_value=0))\n",
        "df.plot.bar()\n",
        "plt.title('Car Range vs Average Price')\n",
        "plt.show()"
      ],
      "metadata": {
        "id": "d_LQq_AYis1s"
      },
      "execution_count": null,
      "outputs": []
    },
    {
      "cell_type": "markdown",
      "source": [
        "Inference :¶\n",
        "\n",
        "High ranged cars prefer rwd drivewheel with idi or mpfi fuelsystem."
      ],
      "metadata": {
        "id": "oWceFSfVi_JF"
      }
    },
    {
      "cell_type": "markdown",
      "source": [
        "List of significant variables after Visual analysis :¶\n",
        "- Car Range \n",
        "- Engine Type \n",
        "- Fuel type \n",
        "- Car Body \n",
        "- Aspiration \n",
        "- Cylinder Number \n",
        "- Drivewheel \n",
        "- Curbweight \n",
        "- Car Length\n",
        "- Car width\n",
        "- Engine Size \n",
        "- Boreratio \n",
        "- Horse Power \n",
        "- Wheel base \n",
        "- Fuel Economy "
      ],
      "metadata": {
        "id": "_xzsGfu5i-7h"
      }
    },
    {
      "cell_type": "code",
      "source": [
        "cars_lr = cars[['price', 'fueltype', 'aspiration','carbody', 'drivewheel','wheelbase',\n",
        "                  'curbweight', 'enginetype', 'cylindernumber', 'enginesize', 'boreratio','horsepower', \n",
        "                    'fueleconomy', 'carlength','carwidth', 'carsrange']]\n",
        "cars_lr.head()\n"
      ],
      "metadata": {
        "id": "NAjWi2ZujHo4"
      },
      "execution_count": null,
      "outputs": []
    },
    {
      "cell_type": "code",
      "source": [
        "sns.pairplot(cars_lr)\n",
        "plt.show()"
      ],
      "metadata": {
        "id": "YMiO3jCwjREF"
      },
      "execution_count": null,
      "outputs": []
    },
    {
      "cell_type": "markdown",
      "source": [
        "Step 6 : Dummy Variables"
      ],
      "metadata": {
        "id": "fql3PWHijeRR"
      }
    },
    {
      "cell_type": "code",
      "source": [
        "# Defining the map function\n",
        "def dummies(x,df):\n",
        "    temp = pd.get_dummies(df[x], drop_first = True)\n",
        "    df = pd.concat([df, temp], axis = 1)\n",
        "    df.drop([x], axis = 1, inplace = True)\n",
        "    return df\n",
        "# Applying the function to the cars_lr\n",
        "\n",
        "cars_lr = dummies('fueltype',cars_lr)\n",
        "cars_lr = dummies('aspiration',cars_lr)\n",
        "cars_lr = dummies('carbody',cars_lr)\n",
        "cars_lr = dummies('drivewheel',cars_lr)\n",
        "cars_lr = dummies('enginetype',cars_lr)\n",
        "cars_lr = dummies('cylindernumber',cars_lr)\n",
        "cars_lr = dummies('carsrange',cars_lr)"
      ],
      "metadata": {
        "id": "W-_fcGhKjf01"
      },
      "execution_count": 32,
      "outputs": []
    },
    {
      "cell_type": "code",
      "source": [
        "cars_lr.head()"
      ],
      "metadata": {
        "id": "a7nb-GKEj3cx"
      },
      "execution_count": null,
      "outputs": []
    },
    {
      "cell_type": "code",
      "source": [
        "cars_lr.shape"
      ],
      "metadata": {
        "id": "xrLaw3Ycj5kn"
      },
      "execution_count": null,
      "outputs": []
    },
    {
      "cell_type": "markdown",
      "source": [
        "Step 7 : Train-Test Split and feature scaling¶"
      ],
      "metadata": {
        "id": "iHs2CM-akGtC"
      }
    },
    {
      "cell_type": "markdown",
      "source": [
        ""
      ],
      "metadata": {
        "id": "FIu9EDmWkGpp"
      }
    },
    {
      "cell_type": "code",
      "source": [
        "from sklearn.model_selection import train_test_split\n",
        "\n",
        "np.random.seed(0)\n",
        "df_train, df_test = train_test_split(cars_lr, train_size = 0.7, test_size = 0.3, random_state = 100)"
      ],
      "metadata": {
        "id": "XATSS0_vkBwb"
      },
      "execution_count": 35,
      "outputs": []
    },
    {
      "cell_type": "code",
      "source": [
        "from sklearn.preprocessing import MinMaxScaler\n",
        "\n",
        "scaler = MinMaxScaler()\n",
        "num_vars = ['wheelbase', 'curbweight', 'enginesize', 'boreratio', 'horsepower','fueleconomy','carlength','carwidth','price']\n",
        "df_train[num_vars] = scaler.fit_transform(df_train[num_vars])"
      ],
      "metadata": {
        "id": "xQHPD-5tkYMJ"
      },
      "execution_count": 37,
      "outputs": []
    },
    {
      "cell_type": "code",
      "source": [
        "df_train.head()"
      ],
      "metadata": {
        "id": "GpZhPwCJkh6g"
      },
      "execution_count": null,
      "outputs": []
    },
    {
      "cell_type": "code",
      "source": [
        "df_train.describe()"
      ],
      "metadata": {
        "id": "PSoIM77Akmw6"
      },
      "execution_count": null,
      "outputs": []
    },
    {
      "cell_type": "code",
      "source": [
        "#Correlation using heatmap\n",
        "plt.figure(figsize = (30, 25))\n",
        "sns.heatmap(df_train.corr(), annot = True, cmap=\"YlGnBu\")\n",
        "plt.show()\n"
      ],
      "metadata": {
        "id": "wblci2gKkozY"
      },
      "execution_count": null,
      "outputs": []
    },
    {
      "cell_type": "markdown",
      "source": [
        "Highly correlated variables to price are - curbweight, enginesize, horsepower,carwidth and highend."
      ],
      "metadata": {
        "id": "18Z1kHGilM2D"
      }
    },
    {
      "cell_type": "code",
      "source": [
        "#Dividing data into X and y variables\n",
        "y_train = df_train.pop('price')\n",
        "X_train = df_train"
      ],
      "metadata": {
        "id": "AU4TIua8lFau"
      },
      "execution_count": 41,
      "outputs": []
    },
    {
      "cell_type": "markdown",
      "source": [
        "# Step 8 : Model Building¶"
      ],
      "metadata": {
        "id": "JhI-HYIhlWf_"
      }
    },
    {
      "cell_type": "code",
      "source": [
        "#RFE\n",
        "from sklearn.feature_selection import RFE\n",
        "from sklearn.linear_model import LinearRegression\n",
        "import statsmodels.api as sm \n",
        "from statsmodels.stats.outliers_influence import variance_inflation_factor"
      ],
      "metadata": {
        "id": "-fE-QT6GlYVV"
      },
      "execution_count": 55,
      "outputs": []
    },
    {
      "cell_type": "code",
      "source": [
        "lm = LinearRegression()\n",
        "lm.fit(X_train,y_train)\n",
        "rfe = RFE(lm)\n",
        "rfe = rfe.fit(X_train, y_train)"
      ],
      "metadata": {
        "id": "ziR-RvCLlfc8"
      },
      "execution_count": 65,
      "outputs": []
    },
    {
      "cell_type": "code",
      "source": [
        "list(zip(X_train.columns,rfe.support_,rfe.ranking_))"
      ],
      "metadata": {
        "id": "T1qJ9Px4pJ1E"
      },
      "execution_count": null,
      "outputs": []
    },
    {
      "cell_type": "code",
      "source": [
        "X_train.columns[rfe.support_]"
      ],
      "metadata": {
        "id": "HGZjLXiHrGB8"
      },
      "execution_count": null,
      "outputs": []
    },
    {
      "cell_type": "markdown",
      "source": [
        "Building model using statsmodel, for the detailed statistics\n"
      ],
      "metadata": {
        "id": "qcAVcrHErw2r"
      }
    },
    {
      "cell_type": "code",
      "source": [
        "X_train_rfe = X_train[X_train.columns[rfe.support_]]\n",
        "X_train_rfe.head()\n"
      ],
      "metadata": {
        "id": "5WXhVS7ZrqIl"
      },
      "execution_count": null,
      "outputs": []
    },
    {
      "cell_type": "code",
      "source": [
        "def build_model(X,y):\n",
        "    X = sm.add_constant(X) #Adding the constant\n",
        "    lm = sm.OLS(y,X).fit() # fitting the model\n",
        "    print(lm.summary()) # model summary\n",
        "    return X\n",
        "    \n",
        "def checkVIF(X):\n",
        "    vif = pd.DataFrame()\n",
        "    vif['Features'] = X.columns\n",
        "    vif['VIF'] = [variance_inflation_factor(X.values, i) for i in range(X.shape[1])]\n",
        "    vif['VIF'] = round(vif['VIF'], 2)\n",
        "    vif = vif.sort_values(by = \"VIF\", ascending = False)\n",
        "    return(vif)"
      ],
      "metadata": {
        "id": "qVSLoPPXsDFk"
      },
      "execution_count": 67,
      "outputs": []
    },
    {
      "cell_type": "markdown",
      "source": [
        "# MODEL 1\n",
        "\n",
        "```\n",
        "# This is formatted as code\n",
        "```\n",
        "\n"
      ],
      "metadata": {
        "id": "IvXp_rk3sJ5E"
      }
    },
    {
      "cell_type": "code",
      "source": [
        "X_train_new = build_model(X_train_rfe,y_train)"
      ],
      "metadata": {
        "id": "O-JZkC25sFpc"
      },
      "execution_count": null,
      "outputs": []
    },
    {
      "cell_type": "markdown",
      "source": [
        "p-vale of twelve seems to be higher than the significance value of 0.05, hence dropping it as it is insignificant in presence of other variables."
      ],
      "metadata": {
        "id": "Zgp09m_csdya"
      }
    },
    {
      "cell_type": "code",
      "source": [
        "X_train_new = X_train_rfe.drop([\"twelve\"], axis = 1)"
      ],
      "metadata": {
        "id": "-D2zmT9lsYvv"
      },
      "execution_count": 69,
      "outputs": []
    },
    {
      "cell_type": "markdown",
      "source": [
        "# MODEL 2"
      ],
      "metadata": {
        "id": "fn7V0zYMslvl"
      }
    },
    {
      "cell_type": "code",
      "source": [
        "X_train_new = build_model(X_train_new,y_train)"
      ],
      "metadata": {
        "id": "VLK2F6zusoDC"
      },
      "execution_count": null,
      "outputs": []
    },
    {
      "cell_type": "code",
      "source": [
        "X_train_new = X_train_new.drop([\"fueleconomy\"], axis = 1)"
      ],
      "metadata": {
        "id": "BxtWvPnzss3d"
      },
      "execution_count": 71,
      "outputs": []
    },
    {
      "cell_type": "markdown",
      "source": [
        "# MODEL 3"
      ],
      "metadata": {
        "id": "whrFXz38sxZg"
      }
    },
    {
      "cell_type": "code",
      "source": [
        "X_train_new = build_model(X_train_new,y_train)"
      ],
      "metadata": {
        "id": "0i94kcD0s3CG"
      },
      "execution_count": null,
      "outputs": []
    },
    {
      "cell_type": "code",
      "source": [
        "#Calculating the Variance Inflation Factor\n",
        "checkVIF(X_train_new)"
      ],
      "metadata": {
        "id": "r7L9rYRDs8ff"
      },
      "execution_count": null,
      "outputs": []
    },
    {
      "cell_type": "markdown",
      "source": [
        "dropping curbweight because of high VIF value. (shows that curbweight has high multicollinearity.)"
      ],
      "metadata": {
        "id": "01K9hJeAtIN_"
      }
    },
    {
      "cell_type": "code",
      "source": [
        "X_train_new = X_train_new.drop([\"curbweight\"], axis = 1)"
      ],
      "metadata": {
        "id": "XeI84Nr_tEN1"
      },
      "execution_count": 74,
      "outputs": []
    },
    {
      "cell_type": "markdown",
      "source": [
        "# MODEL 4"
      ],
      "metadata": {
        "id": "a-5IJM-CtPv8"
      }
    },
    {
      "cell_type": "code",
      "source": [
        "X_train_new = build_model(X_train_new,y_train)"
      ],
      "metadata": {
        "id": "ZnIn-KrLtSPF"
      },
      "execution_count": null,
      "outputs": []
    },
    {
      "cell_type": "code",
      "source": [
        "checkVIF(X_train_new)"
      ],
      "metadata": {
        "id": "JhFnN5AHtbKW"
      },
      "execution_count": null,
      "outputs": []
    },
    {
      "cell_type": "markdown",
      "source": [
        "dropping sedan because of high VIF value."
      ],
      "metadata": {
        "id": "6kELeoFTtf0V"
      }
    },
    {
      "cell_type": "code",
      "source": [
        "X_train_new = X_train_new.drop([\"sedan\"], axis = 1)"
      ],
      "metadata": {
        "id": "T2Zbp3d8tg4L"
      },
      "execution_count": 77,
      "outputs": []
    },
    {
      "cell_type": "markdown",
      "source": [
        "# MODEL 5"
      ],
      "metadata": {
        "id": "Q4EuIfP4tsTU"
      }
    },
    {
      "cell_type": "code",
      "source": [
        "X_train_new = build_model(X_train_new,y_train)"
      ],
      "metadata": {
        "id": "2tHjL2vVtutM"
      },
      "execution_count": null,
      "outputs": []
    },
    {
      "cell_type": "code",
      "source": [
        "checkVIF(X_train_new)"
      ],
      "metadata": {
        "id": "bkhEVKGHtzAO"
      },
      "execution_count": null,
      "outputs": []
    },
    {
      "cell_type": "markdown",
      "source": [
        "dropping wagon because of high p-value."
      ],
      "metadata": {
        "id": "QPmSIb9zt-5g"
      }
    },
    {
      "cell_type": "code",
      "source": [
        "X_train_new = X_train_new.drop([\"wagon\"], axis = 1)"
      ],
      "metadata": {
        "id": "VNPBHqWRt9Za"
      },
      "execution_count": 80,
      "outputs": []
    },
    {
      "cell_type": "markdown",
      "source": [
        "# MODEL 6"
      ],
      "metadata": {
        "id": "30PX0MWiuGdN"
      }
    },
    {
      "cell_type": "code",
      "source": [
        "X_train_new = build_model(X_train_new,y_train)"
      ],
      "metadata": {
        "id": "2-4tNgQquIRT"
      },
      "execution_count": null,
      "outputs": []
    },
    {
      "cell_type": "code",
      "source": [
        "X_train_new = build_model(X_train_new,y_train)"
      ],
      "metadata": {
        "id": "v5jK5n9NuU9j"
      },
      "execution_count": null,
      "outputs": []
    },
    {
      "cell_type": "markdown",
      "source": [
        "# MODEL 7\n"
      ],
      "metadata": {
        "id": "aBEeLfyRucf3"
      }
    },
    {
      "cell_type": "code",
      "source": [
        "#Dropping dohcv to see the changes in model statistics\n",
        "X_train_new = X_train_new.drop([\"dohcv\"], axis = 1)\n",
        "X_train_new = build_model(X_train_new,y_train)\n",
        "checkVIF(X_train_new)"
      ],
      "metadata": {
        "id": "WEs9UvzyuXXi"
      },
      "execution_count": null,
      "outputs": []
    },
    {
      "cell_type": "markdown",
      "source": [
        "# Step 9 : Residual Analysis of Model¶"
      ],
      "metadata": {
        "id": "U2owSlQnuobT"
      }
    },
    {
      "cell_type": "code",
      "source": [
        "lm = sm.OLS(y_train,X_train_new).fit()\n",
        "y_train_price = lm.predict(X_train_new)"
      ],
      "metadata": {
        "id": "IOJtyFdxulAz"
      },
      "execution_count": 84,
      "outputs": []
    },
    {
      "cell_type": "code",
      "source": [
        "# Plot the histogram of the error terms\n",
        "fig = plt.figure()\n",
        "sns.distplot((y_train - y_train_price), bins = 20)\n",
        "fig.suptitle('Error Terms', fontsize = 20)                  # Plot heading \n",
        "plt.xlabel('Errors', fontsize = 18)   "
      ],
      "metadata": {
        "id": "jdseZ7aNuycI"
      },
      "execution_count": null,
      "outputs": []
    },
    {
      "cell_type": "markdown",
      "source": [
        "# Step 10 : Prediction and Evaluation¶"
      ],
      "metadata": {
        "id": "UcA2PVsxu6bA"
      }
    },
    {
      "cell_type": "code",
      "source": [
        "#Scaling the test set\n",
        "num_vars = ['wheelbase', 'curbweight', 'enginesize', 'boreratio', 'horsepower','fueleconomy','carlength','carwidth','price']\n",
        "df_test[num_vars] = scaler.fit_transform(df_test[num_vars])"
      ],
      "metadata": {
        "id": "3qM5YmfJu1Fm"
      },
      "execution_count": 87,
      "outputs": []
    },
    {
      "cell_type": "code",
      "source": [
        "#Dividing into X and y\n",
        "y_test = df_test.pop('price')\n",
        "X_test = df_test"
      ],
      "metadata": {
        "id": "Dq1HBo0SvVMu"
      },
      "execution_count": 88,
      "outputs": []
    },
    {
      "cell_type": "code",
      "source": [
        "# Now let's use our model to make predictions.\n",
        "X_train_new = X_train_new.drop('const',axis=1)\n",
        "# Creating X_test_new dataframe by dropping variables from X_test\n",
        "X_test_new = X_test[X_train_new.columns]\n",
        "\n",
        "# Adding a constant variable \n",
        "X_test_new = sm.add_constant(X_test_new)"
      ],
      "metadata": {
        "id": "ze1rFM5wvaGF"
      },
      "execution_count": 89,
      "outputs": []
    },
    {
      "cell_type": "code",
      "source": [
        "# Making predictions\n",
        "y_pred = lm.predict(X_test_new)"
      ],
      "metadata": {
        "id": "sCbuX7Ohvb71"
      },
      "execution_count": 90,
      "outputs": []
    },
    {
      "cell_type": "markdown",
      "source": [
        "# Evaluation of test via comparison of y_pred and y_test"
      ],
      "metadata": {
        "id": "mj4FwPOAvlD8"
      }
    },
    {
      "cell_type": "code",
      "source": [
        "from sklearn.metrics import r2_score \n",
        "r2_score(y_test, y_pred)"
      ],
      "metadata": {
        "colab": {
          "base_uri": "https://localhost:8080/"
        },
        "id": "5TV8YhaPvsrK",
        "outputId": "aaa2fbe7-ee1e-4597-a1c1-013c3317f2f3"
      },
      "execution_count": 91,
      "outputs": [
        {
          "output_type": "execute_result",
          "data": {
            "text/plain": [
              "0.8816925583799406"
            ]
          },
          "metadata": {},
          "execution_count": 91
        }
      ]
    },
    {
      "cell_type": "code",
      "source": [
        "#EVALUATION OF THE MODEL\n",
        "# Plotting y_test and y_pred to understand the spread.\n",
        "fig = plt.figure()\n",
        "plt.scatter(y_test,y_pred)\n",
        "fig.suptitle('y_test vs y_pred', fontsize=20)              # Plot heading \n",
        "plt.xlabel('y_test', fontsize=18)                          # X-label\n",
        "plt.ylabel('y_pred', fontsize=16) "
      ],
      "metadata": {
        "id": "6p0NdRq6v0Zl"
      },
      "execution_count": null,
      "outputs": []
    },
    {
      "cell_type": "markdown",
      "source": [
        "# Evaluation of the model using Statistics¶"
      ],
      "metadata": {
        "id": "ssJKQfvnwCn_"
      }
    },
    {
      "cell_type": "code",
      "source": [
        "print(lm.summary())"
      ],
      "metadata": {
        "id": "qryy9curwBbM"
      },
      "execution_count": null,
      "outputs": []
    },
    {
      "cell_type": "markdown",
      "source": [
        "Inference :¶\n",
        "\n",
        "R-sqaured and Adjusted R-squared (extent of fit) - 0.899 and 0.896 - 90% variance explained.\n",
        "\n",
        "F-stats and Prob(F-stats) (overall model fit) - 308.0 and 1.04e-67(approx. 0.0) - Model fir is significant and explained 90% variance is just not by chance.\n",
        "\n",
        "p-values - p-values for all the coefficients seem to be less than the significance level of 0.05. - meaning that all the predictors are statistically significant."
      ],
      "metadata": {
        "id": "Zm4TbB6mwXNn"
      }
    }
  ]
}