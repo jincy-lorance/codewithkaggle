{
  "nbformat": 4,
  "nbformat_minor": 0,
  "metadata": {
    "colab": {
      "name": "HR Analytics.ipynb",
      "provenance": [],
      "collapsed_sections": [],
      "authorship_tag": "ABX9TyNiQwIB1bStu3GCOfF0VhaU",
      "include_colab_link": true
    },
    "kernelspec": {
      "name": "python3",
      "display_name": "Python 3"
    },
    "language_info": {
      "name": "python"
    }
  },
  "cells": [
    {
      "cell_type": "markdown",
      "metadata": {
        "id": "view-in-github",
        "colab_type": "text"
      },
      "source": [
        "<a href=\"https://colab.research.google.com/github/jincy-lorance/codewithkaggle/blob/main/HR_Analytics.ipynb\" target=\"_parent\"><img src=\"https://colab.research.google.com/assets/colab-badge.svg\" alt=\"Open In Colab\"/></a>"
      ]
    },
    {
      "cell_type": "markdown",
      "source": [
        "Introduction...¶\n",
        "\n",
        "A company which is active in Big Data and Data Science wants to hire data scientists among people who successfully pass some courses which conduct by the company. Many people signup for their training. Company wants to know which of these candidates are really wants to work for the company after training or looking for a new employment because it helps to reduce the cost and time as well as the quality of training or planning the courses and categorization of candidates.\n",
        "The related link to reffer is\n",
        "https://www.kaggle.com/code/upinderkahlon28/job-change-prediction/data\n"
      ],
      "metadata": {
        "id": "QYsuUtFoNXwx"
      }
    },
    {
      "cell_type": "markdown",
      "source": [
        "Importing Libraries"
      ],
      "metadata": {
        "id": "05eSCYu4Nonm"
      }
    },
    {
      "cell_type": "code",
      "execution_count": null,
      "metadata": {
        "colab": {
          "resources": {
            "http://localhost:8080/nbextensions/google.colab/files.js": {
              "data": "Ly8gQ29weXJpZ2h0IDIwMTcgR29vZ2xlIExMQwovLwovLyBMaWNlbnNlZCB1bmRlciB0aGUgQXBhY2hlIExpY2Vuc2UsIFZlcnNpb24gMi4wICh0aGUgIkxpY2Vuc2UiKTsKLy8geW91IG1heSBub3QgdXNlIHRoaXMgZmlsZSBleGNlcHQgaW4gY29tcGxpYW5jZSB3aXRoIHRoZSBMaWNlbnNlLgovLyBZb3UgbWF5IG9idGFpbiBhIGNvcHkgb2YgdGhlIExpY2Vuc2UgYXQKLy8KLy8gICAgICBodHRwOi8vd3d3LmFwYWNoZS5vcmcvbGljZW5zZXMvTElDRU5TRS0yLjAKLy8KLy8gVW5sZXNzIHJlcXVpcmVkIGJ5IGFwcGxpY2FibGUgbGF3IG9yIGFncmVlZCB0byBpbiB3cml0aW5nLCBzb2Z0d2FyZQovLyBkaXN0cmlidXRlZCB1bmRlciB0aGUgTGljZW5zZSBpcyBkaXN0cmlidXRlZCBvbiBhbiAiQVMgSVMiIEJBU0lTLAovLyBXSVRIT1VUIFdBUlJBTlRJRVMgT1IgQ09ORElUSU9OUyBPRiBBTlkgS0lORCwgZWl0aGVyIGV4cHJlc3Mgb3IgaW1wbGllZC4KLy8gU2VlIHRoZSBMaWNlbnNlIGZvciB0aGUgc3BlY2lmaWMgbGFuZ3VhZ2UgZ292ZXJuaW5nIHBlcm1pc3Npb25zIGFuZAovLyBsaW1pdGF0aW9ucyB1bmRlciB0aGUgTGljZW5zZS4KCi8qKgogKiBAZmlsZW92ZXJ2aWV3IEhlbHBlcnMgZm9yIGdvb2dsZS5jb2xhYiBQeXRob24gbW9kdWxlLgogKi8KKGZ1bmN0aW9uKHNjb3BlKSB7CmZ1bmN0aW9uIHNwYW4odGV4dCwgc3R5bGVBdHRyaWJ1dGVzID0ge30pIHsKICBjb25zdCBlbGVtZW50ID0gZG9jdW1lbnQuY3JlYXRlRWxlbWVudCgnc3BhbicpOwogIGVsZW1lbnQudGV4dENvbnRlbnQgPSB0ZXh0OwogIGZvciAoY29uc3Qga2V5IG9mIE9iamVjdC5rZXlzKHN0eWxlQXR0cmlidXRlcykpIHsKICAgIGVsZW1lbnQuc3R5bGVba2V5XSA9IHN0eWxlQXR0cmlidXRlc1trZXldOwogIH0KICByZXR1cm4gZWxlbWVudDsKfQoKLy8gTWF4IG51bWJlciBvZiBieXRlcyB3aGljaCB3aWxsIGJlIHVwbG9hZGVkIGF0IGEgdGltZS4KY29uc3QgTUFYX1BBWUxPQURfU0laRSA9IDEwMCAqIDEwMjQ7CgpmdW5jdGlvbiBfdXBsb2FkRmlsZXMoaW5wdXRJZCwgb3V0cHV0SWQpIHsKICBjb25zdCBzdGVwcyA9IHVwbG9hZEZpbGVzU3RlcChpbnB1dElkLCBvdXRwdXRJZCk7CiAgY29uc3Qgb3V0cHV0RWxlbWVudCA9IGRvY3VtZW50LmdldEVsZW1lbnRCeUlkKG91dHB1dElkKTsKICAvLyBDYWNoZSBzdGVwcyBvbiB0aGUgb3V0cHV0RWxlbWVudCB0byBtYWtlIGl0IGF2YWlsYWJsZSBmb3IgdGhlIG5leHQgY2FsbAogIC8vIHRvIHVwbG9hZEZpbGVzQ29udGludWUgZnJvbSBQeXRob24uCiAgb3V0cHV0RWxlbWVudC5zdGVwcyA9IHN0ZXBzOwoKICByZXR1cm4gX3VwbG9hZEZpbGVzQ29udGludWUob3V0cHV0SWQpOwp9CgovLyBUaGlzIGlzIHJvdWdobHkgYW4gYXN5bmMgZ2VuZXJhdG9yIChub3Qgc3VwcG9ydGVkIGluIHRoZSBicm93c2VyIHlldCksCi8vIHdoZXJlIHRoZXJlIGFyZSBtdWx0aXBsZSBhc3luY2hyb25vdXMgc3RlcHMgYW5kIHRoZSBQeXRob24gc2lkZSBpcyBnb2luZwovLyB0byBwb2xsIGZvciBjb21wbGV0aW9uIG9mIGVhY2ggc3RlcC4KLy8gVGhpcyB1c2VzIGEgUHJvbWlzZSB0byBibG9jayB0aGUgcHl0aG9uIHNpZGUgb24gY29tcGxldGlvbiBvZiBlYWNoIHN0ZXAsCi8vIHRoZW4gcGFzc2VzIHRoZSByZXN1bHQgb2YgdGhlIHByZXZpb3VzIHN0ZXAgYXMgdGhlIGlucHV0IHRvIHRoZSBuZXh0IHN0ZXAuCmZ1bmN0aW9uIF91cGxvYWRGaWxlc0NvbnRpbnVlKG91dHB1dElkKSB7CiAgY29uc3Qgb3V0cHV0RWxlbWVudCA9IGRvY3VtZW50LmdldEVsZW1lbnRCeUlkKG91dHB1dElkKTsKICBjb25zdCBzdGVwcyA9IG91dHB1dEVsZW1lbnQuc3RlcHM7CgogIGNvbnN0IG5leHQgPSBzdGVwcy5uZXh0KG91dHB1dEVsZW1lbnQubGFzdFByb21pc2VWYWx1ZSk7CiAgcmV0dXJuIFByb21pc2UucmVzb2x2ZShuZXh0LnZhbHVlLnByb21pc2UpLnRoZW4oKHZhbHVlKSA9PiB7CiAgICAvLyBDYWNoZSB0aGUgbGFzdCBwcm9taXNlIHZhbHVlIHRvIG1ha2UgaXQgYXZhaWxhYmxlIHRvIHRoZSBuZXh0CiAgICAvLyBzdGVwIG9mIHRoZSBnZW5lcmF0b3IuCiAgICBvdXRwdXRFbGVtZW50Lmxhc3RQcm9taXNlVmFsdWUgPSB2YWx1ZTsKICAgIHJldHVybiBuZXh0LnZhbHVlLnJlc3BvbnNlOwogIH0pOwp9CgovKioKICogR2VuZXJhdG9yIGZ1bmN0aW9uIHdoaWNoIGlzIGNhbGxlZCBiZXR3ZWVuIGVhY2ggYXN5bmMgc3RlcCBvZiB0aGUgdXBsb2FkCiAqIHByb2Nlc3MuCiAqIEBwYXJhbSB7c3RyaW5nfSBpbnB1dElkIEVsZW1lbnQgSUQgb2YgdGhlIGlucHV0IGZpbGUgcGlja2VyIGVsZW1lbnQuCiAqIEBwYXJhbSB7c3RyaW5nfSBvdXRwdXRJZCBFbGVtZW50IElEIG9mIHRoZSBvdXRwdXQgZGlzcGxheS4KICogQHJldHVybiB7IUl0ZXJhYmxlPCFPYmplY3Q+fSBJdGVyYWJsZSBvZiBuZXh0IHN0ZXBzLgogKi8KZnVuY3Rpb24qIHVwbG9hZEZpbGVzU3RlcChpbnB1dElkLCBvdXRwdXRJZCkgewogIGNvbnN0IGlucHV0RWxlbWVudCA9IGRvY3VtZW50LmdldEVsZW1lbnRCeUlkKGlucHV0SWQpOwogIGlucHV0RWxlbWVudC5kaXNhYmxlZCA9IGZhbHNlOwoKICBjb25zdCBvdXRwdXRFbGVtZW50ID0gZG9jdW1lbnQuZ2V0RWxlbWVudEJ5SWQob3V0cHV0SWQpOwogIG91dHB1dEVsZW1lbnQuaW5uZXJIVE1MID0gJyc7CgogIGNvbnN0IHBpY2tlZFByb21pc2UgPSBuZXcgUHJvbWlzZSgocmVzb2x2ZSkgPT4gewogICAgaW5wdXRFbGVtZW50LmFkZEV2ZW50TGlzdGVuZXIoJ2NoYW5nZScsIChlKSA9PiB7CiAgICAgIHJlc29sdmUoZS50YXJnZXQuZmlsZXMpOwogICAgfSk7CiAgfSk7CgogIGNvbnN0IGNhbmNlbCA9IGRvY3VtZW50LmNyZWF0ZUVsZW1lbnQoJ2J1dHRvbicpOwogIGlucHV0RWxlbWVudC5wYXJlbnRFbGVtZW50LmFwcGVuZENoaWxkKGNhbmNlbCk7CiAgY2FuY2VsLnRleHRDb250ZW50ID0gJ0NhbmNlbCB1cGxvYWQnOwogIGNvbnN0IGNhbmNlbFByb21pc2UgPSBuZXcgUHJvbWlzZSgocmVzb2x2ZSkgPT4gewogICAgY2FuY2VsLm9uY2xpY2sgPSAoKSA9PiB7CiAgICAgIHJlc29sdmUobnVsbCk7CiAgICB9OwogIH0pOwoKICAvLyBXYWl0IGZvciB0aGUgdXNlciB0byBwaWNrIHRoZSBmaWxlcy4KICBjb25zdCBmaWxlcyA9IHlpZWxkIHsKICAgIHByb21pc2U6IFByb21pc2UucmFjZShbcGlja2VkUHJvbWlzZSwgY2FuY2VsUHJvbWlzZV0pLAogICAgcmVzcG9uc2U6IHsKICAgICAgYWN0aW9uOiAnc3RhcnRpbmcnLAogICAgfQogIH07CgogIGNhbmNlbC5yZW1vdmUoKTsKCiAgLy8gRGlzYWJsZSB0aGUgaW5wdXQgZWxlbWVudCBzaW5jZSBmdXJ0aGVyIHBpY2tzIGFyZSBub3QgYWxsb3dlZC4KICBpbnB1dEVsZW1lbnQuZGlzYWJsZWQgPSB0cnVlOwoKICBpZiAoIWZpbGVzKSB7CiAgICByZXR1cm4gewogICAgICByZXNwb25zZTogewogICAgICAgIGFjdGlvbjogJ2NvbXBsZXRlJywKICAgICAgfQogICAgfTsKICB9CgogIGZvciAoY29uc3QgZmlsZSBvZiBmaWxlcykgewogICAgY29uc3QgbGkgPSBkb2N1bWVudC5jcmVhdGVFbGVtZW50KCdsaScpOwogICAgbGkuYXBwZW5kKHNwYW4oZmlsZS5uYW1lLCB7Zm9udFdlaWdodDogJ2JvbGQnfSkpOwogICAgbGkuYXBwZW5kKHNwYW4oCiAgICAgICAgYCgke2ZpbGUudHlwZSB8fCAnbi9hJ30pIC0gJHtmaWxlLnNpemV9IGJ5dGVzLCBgICsKICAgICAgICBgbGFzdCBtb2RpZmllZDogJHsKICAgICAgICAgICAgZmlsZS5sYXN0TW9kaWZpZWREYXRlID8gZmlsZS5sYXN0TW9kaWZpZWREYXRlLnRvTG9jYWxlRGF0ZVN0cmluZygpIDoKICAgICAgICAgICAgICAgICAgICAgICAgICAgICAgICAgICAgJ24vYSd9IC0gYCkpOwogICAgY29uc3QgcGVyY2VudCA9IHNwYW4oJzAlIGRvbmUnKTsKICAgIGxpLmFwcGVuZENoaWxkKHBlcmNlbnQpOwoKICAgIG91dHB1dEVsZW1lbnQuYXBwZW5kQ2hpbGQobGkpOwoKICAgIGNvbnN0IGZpbGVEYXRhUHJvbWlzZSA9IG5ldyBQcm9taXNlKChyZXNvbHZlKSA9PiB7CiAgICAgIGNvbnN0IHJlYWRlciA9IG5ldyBGaWxlUmVhZGVyKCk7CiAgICAgIHJlYWRlci5vbmxvYWQgPSAoZSkgPT4gewogICAgICAgIHJlc29sdmUoZS50YXJnZXQucmVzdWx0KTsKICAgICAgfTsKICAgICAgcmVhZGVyLnJlYWRBc0FycmF5QnVmZmVyKGZpbGUpOwogICAgfSk7CiAgICAvLyBXYWl0IGZvciB0aGUgZGF0YSB0byBiZSByZWFkeS4KICAgIGxldCBmaWxlRGF0YSA9IHlpZWxkIHsKICAgICAgcHJvbWlzZTogZmlsZURhdGFQcm9taXNlLAogICAgICByZXNwb25zZTogewogICAgICAgIGFjdGlvbjogJ2NvbnRpbnVlJywKICAgICAgfQogICAgfTsKCiAgICAvLyBVc2UgYSBjaHVua2VkIHNlbmRpbmcgdG8gYXZvaWQgbWVzc2FnZSBzaXplIGxpbWl0cy4gU2VlIGIvNjIxMTU2NjAuCiAgICBsZXQgcG9zaXRpb24gPSAwOwogICAgZG8gewogICAgICBjb25zdCBsZW5ndGggPSBNYXRoLm1pbihmaWxlRGF0YS5ieXRlTGVuZ3RoIC0gcG9zaXRpb24sIE1BWF9QQVlMT0FEX1NJWkUpOwogICAgICBjb25zdCBjaHVuayA9IG5ldyBVaW50OEFycmF5KGZpbGVEYXRhLCBwb3NpdGlvbiwgbGVuZ3RoKTsKICAgICAgcG9zaXRpb24gKz0gbGVuZ3RoOwoKICAgICAgY29uc3QgYmFzZTY0ID0gYnRvYShTdHJpbmcuZnJvbUNoYXJDb2RlLmFwcGx5KG51bGwsIGNodW5rKSk7CiAgICAgIHlpZWxkIHsKICAgICAgICByZXNwb25zZTogewogICAgICAgICAgYWN0aW9uOiAnYXBwZW5kJywKICAgICAgICAgIGZpbGU6IGZpbGUubmFtZSwKICAgICAgICAgIGRhdGE6IGJhc2U2NCwKICAgICAgICB9LAogICAgICB9OwoKICAgICAgbGV0IHBlcmNlbnREb25lID0gZmlsZURhdGEuYnl0ZUxlbmd0aCA9PT0gMCA/CiAgICAgICAgICAxMDAgOgogICAgICAgICAgTWF0aC5yb3VuZCgocG9zaXRpb24gLyBmaWxlRGF0YS5ieXRlTGVuZ3RoKSAqIDEwMCk7CiAgICAgIHBlcmNlbnQudGV4dENvbnRlbnQgPSBgJHtwZXJjZW50RG9uZX0lIGRvbmVgOwoKICAgIH0gd2hpbGUgKHBvc2l0aW9uIDwgZmlsZURhdGEuYnl0ZUxlbmd0aCk7CiAgfQoKICAvLyBBbGwgZG9uZS4KICB5aWVsZCB7CiAgICByZXNwb25zZTogewogICAgICBhY3Rpb246ICdjb21wbGV0ZScsCiAgICB9CiAgfTsKfQoKc2NvcGUuZ29vZ2xlID0gc2NvcGUuZ29vZ2xlIHx8IHt9OwpzY29wZS5nb29nbGUuY29sYWIgPSBzY29wZS5nb29nbGUuY29sYWIgfHwge307CnNjb3BlLmdvb2dsZS5jb2xhYi5fZmlsZXMgPSB7CiAgX3VwbG9hZEZpbGVzLAogIF91cGxvYWRGaWxlc0NvbnRpbnVlLAp9Owp9KShzZWxmKTsK",
              "ok": true,
              "headers": [
                [
                  "content-type",
                  "application/javascript"
                ]
              ],
              "status": 200,
              "status_text": ""
            }
          },
          "base_uri": "https://localhost:8080/",
          "height": 73
        },
        "id": "4hZIcf0pM9cZ",
        "outputId": "ea7461f1-d536-4673-b557-13e0236821ac"
      },
      "outputs": [
        {
          "output_type": "display_data",
          "data": {
            "text/plain": [
              "<IPython.core.display.HTML object>"
            ],
            "text/html": [
              "\n",
              "     <input type=\"file\" id=\"files-98d6c093-f5ab-4889-bec7-ed4b6ec2e3c7\" name=\"files[]\" multiple disabled\n",
              "        style=\"border:none\" />\n",
              "     <output id=\"result-98d6c093-f5ab-4889-bec7-ed4b6ec2e3c7\">\n",
              "      Upload widget is only available when the cell has been executed in the\n",
              "      current browser session. Please rerun this cell to enable.\n",
              "      </output>\n",
              "      <script src=\"/nbextensions/google.colab/files.js\"></script> "
            ]
          },
          "metadata": {}
        },
        {
          "output_type": "stream",
          "name": "stdout",
          "text": [
            "Saving aug_train.csv to aug_train (1).csv\n"
          ]
        }
      ],
      "source": [
        "import pandas as pd\n",
        "import numpy as np\n",
        "import matplotlib.pyplot as plt\n",
        "plt.style.use('fivethirtyeight')\n",
        "import seaborn as sns\n",
        "import warnings \n",
        "warnings.filterwarnings(action='ignore')\n",
        "\n",
        "import io\n",
        "from google.colab import files\n",
        "uploaded = files.upload()\n",
        "\n",
        "import os.path\n",
        "%matplotlib inline\n",
        "\n"
      ]
    },
    {
      "cell_type": "code",
      "source": [
        "train=pd.read_csv(io.BytesIO(uploaded['aug_train.csv']))\n",
        "train.head()"
      ],
      "metadata": {
        "id": "W9asisv6QM_B"
      },
      "execution_count": null,
      "outputs": []
    },
    {
      "cell_type": "code",
      "source": [
        "from google.colab import files\n",
        "uploaded = files.upload()\n",
        "\n",
        "import os.path\n",
        "%matplotlib inline\n"
      ],
      "metadata": {
        "id": "26xI6pOmOj03"
      },
      "execution_count": null,
      "outputs": []
    },
    {
      "cell_type": "code",
      "source": [
        "test=pd.read_csv(io.BytesIO(uploaded['aug_test.csv']))\n",
        "test.head()\n"
      ],
      "metadata": {
        "id": "026jUyYsO8DO"
      },
      "execution_count": null,
      "outputs": []
    },
    {
      "cell_type": "markdown",
      "source": [
        "Data Cleaning"
      ],
      "metadata": {
        "id": "L20se5HqQ1Fh"
      }
    },
    {
      "cell_type": "code",
      "source": [
        "train.isnull().sum()"
      ],
      "metadata": {
        "id": "PBGfqkV6O7_2"
      },
      "execution_count": null,
      "outputs": []
    },
    {
      "cell_type": "code",
      "source": [
        "train.shape"
      ],
      "metadata": {
        "id": "Vb0n_p3NZvs1"
      },
      "execution_count": null,
      "outputs": []
    },
    {
      "cell_type": "markdown",
      "source": [
        "So we will use dropna..."
      ],
      "metadata": {
        "id": "hVjUb7qMaARZ"
      }
    },
    {
      "cell_type": "code",
      "source": [
        "train=train.dropna()"
      ],
      "metadata": {
        "id": "_ZRDwLPCZ21y"
      },
      "execution_count": null,
      "outputs": []
    },
    {
      "cell_type": "code",
      "source": [
        "# After dropping the rows we will reset index...\n",
        "train=train.reset_index(drop=True)\n",
        "train.shape"
      ],
      "metadata": {
        "id": "yMXNfjjlaIl6"
      },
      "execution_count": null,
      "outputs": []
    },
    {
      "cell_type": "code",
      "source": [
        "# Now, we will check test dataset if it can be predicted with the number of values in train dataset...\n",
        "test.shape\n"
      ],
      "metadata": {
        "id": "onOUqg3Cai4V"
      },
      "execution_count": null,
      "outputs": []
    },
    {
      "cell_type": "code",
      "source": [
        "# Now we will check the null values in test dataset...\n",
        "test.isnull().sum()"
      ],
      "metadata": {
        "id": "GXYLPPUja5Dy"
      },
      "execution_count": null,
      "outputs": []
    },
    {
      "cell_type": "markdown",
      "source": [
        "We cannot drop the null values in test dataset as the submission file has the same number of values to be predicted. So, we will have to fill the empty values in test dataset..."
      ],
      "metadata": {
        "id": "h7wTqh4kdj_n"
      }
    },
    {
      "cell_type": "code",
      "source": [
        "test.head()"
      ],
      "metadata": {
        "id": "NQkrMJ-ackiY"
      },
      "execution_count": null,
      "outputs": []
    },
    {
      "cell_type": "code",
      "source": [
        "#Filling gender column \n",
        "\n",
        "print(test['gender'].mode())"
      ],
      "metadata": {
        "id": "m6Tt3x1fckZb"
      },
      "execution_count": null,
      "outputs": []
    },
    {
      "cell_type": "code",
      "source": [
        "test['gender'].fillna(value='Male',inplace=True)"
      ],
      "metadata": {
        "id": "bDrzs-WDfyKV"
      },
      "execution_count": null,
      "outputs": []
    },
    {
      "cell_type": "code",
      "source": [
        "#Filling enrolled_university column\n",
        "\n",
        "test['enrolled_university'].mode()"
      ],
      "metadata": {
        "id": "DdcRfqF1f-3Y"
      },
      "execution_count": null,
      "outputs": []
    },
    {
      "cell_type": "code",
      "source": [
        "test['enrolled_university'].fillna(value='no_enrollment',inplace=True)"
      ],
      "metadata": {
        "id": "qYogbVmRgHo3"
      },
      "execution_count": null,
      "outputs": []
    },
    {
      "cell_type": "code",
      "source": [
        "#Filling education_level\n",
        "\n",
        "test['education_level'].mode()"
      ],
      "metadata": {
        "id": "_MlTAIRZgPvQ"
      },
      "execution_count": null,
      "outputs": []
    },
    {
      "cell_type": "code",
      "source": [
        "test['education_level'].fillna(value='Graduate',inplace=True)"
      ],
      "metadata": {
        "id": "XY3CjOY_gXOX"
      },
      "execution_count": null,
      "outputs": []
    },
    {
      "cell_type": "code",
      "source": [
        "#Filling major_discipline \n",
        "\n",
        "test['major_discipline'].mode()"
      ],
      "metadata": {
        "id": "gdiRP9lZge8-"
      },
      "execution_count": null,
      "outputs": []
    },
    {
      "cell_type": "code",
      "source": [
        "test['major_discipline'].fillna(value='STEM',inplace=True)"
      ],
      "metadata": {
        "id": "DHAYQnQ6ghHR"
      },
      "execution_count": null,
      "outputs": []
    },
    {
      "cell_type": "code",
      "source": [
        "#Filling experience\n",
        "\n",
        "test['experience'].mode()"
      ],
      "metadata": {
        "id": "6MX9OWDrgpXo"
      },
      "execution_count": null,
      "outputs": []
    },
    {
      "cell_type": "code",
      "source": [
        "test['experience'].fillna(value='>20',inplace=True)"
      ],
      "metadata": {
        "id": "QBI8fxYBgvD2"
      },
      "execution_count": null,
      "outputs": []
    },
    {
      "cell_type": "code",
      "source": [
        "#Filling company size\n",
        "\n",
        "test['company_size'].mode()"
      ],
      "metadata": {
        "id": "jnT42VUZg3uR"
      },
      "execution_count": null,
      "outputs": []
    },
    {
      "cell_type": "code",
      "source": [
        "test['company_size'].fillna(value='50-99',inplace=True)"
      ],
      "metadata": {
        "id": "08BsENWMhB4o"
      },
      "execution_count": null,
      "outputs": []
    },
    {
      "cell_type": "code",
      "source": [
        "#Filling company_type\n",
        "\n",
        "test['company_type'].mode()"
      ],
      "metadata": {
        "id": "LCixmVI7hFqg"
      },
      "execution_count": null,
      "outputs": []
    },
    {
      "cell_type": "code",
      "source": [
        "test['company_type'].fillna(value='Pvt Ltd',inplace=True)"
      ],
      "metadata": {
        "id": "61K4SL97hOEt"
      },
      "execution_count": null,
      "outputs": []
    },
    {
      "cell_type": "code",
      "source": [
        "#Filling last new job\n",
        "\n",
        "test['last_new_job'].mode()"
      ],
      "metadata": {
        "id": "jhsLwjVXhUGi"
      },
      "execution_count": null,
      "outputs": []
    },
    {
      "cell_type": "code",
      "source": [
        "test['last_new_job'].fillna(value='1',inplace=True)"
      ],
      "metadata": {
        "id": "h3k_s19ShYX9"
      },
      "execution_count": null,
      "outputs": []
    },
    {
      "cell_type": "code",
      "source": [
        "test.isnull().sum() # test for nulls"
      ],
      "metadata": {
        "id": "OV_e2qWShghZ"
      },
      "execution_count": null,
      "outputs": []
    },
    {
      "cell_type": "markdown",
      "source": [
        " Now no values are empty in train and test dataset..."
      ],
      "metadata": {
        "id": "cDl4eb-hh2Uz"
      }
    },
    {
      "cell_type": "markdown",
      "source": [
        "# **Data Visualization**"
      ],
      "metadata": {
        "id": "Qggw3jZFh6r3"
      }
    },
    {
      "cell_type": "code",
      "source": [
        "train.head()"
      ],
      "metadata": {
        "id": "l_seit8shvmy"
      },
      "execution_count": null,
      "outputs": []
    },
    {
      "cell_type": "code",
      "source": [
        "plt.figure(figsize=(12,6))\n",
        "sns.countplot(train['gender'])\n",
        "plt.show()\n"
      ],
      "metadata": {
        "id": "yNscEfSYiNyL"
      },
      "execution_count": null,
      "outputs": []
    },
    {
      "cell_type": "code",
      "source": [
        "index=train['relevent_experience'].value_counts().index\n",
        "values=train['relevent_experience'].value_counts()\n",
        "plt.figure(figsize=(16,8))\n",
        "plt.pie(values,labels=index,autopct=\"%1.1f%%\",wedgeprops={'edgecolor':'black'})\n",
        "plt.show()"
      ],
      "metadata": {
        "id": "1A4GSiYDiZQQ"
      },
      "execution_count": null,
      "outputs": []
    },
    {
      "cell_type": "code",
      "source": [
        "index=train['enrolled_university'].value_counts().index\n",
        "values=train['enrolled_university'].value_counts()\n",
        "plt.figure(figsize=(12,6))\n",
        "plt.bar(index, values, color ='green')\n",
        "plt.xlabel(\"enrolled_university\")\n",
        "plt.ylabel(\"count\")\n",
        "plt.show()\n"
      ],
      "metadata": {
        "id": "CIb5PNEmi9oq"
      },
      "execution_count": null,
      "outputs": []
    },
    {
      "cell_type": "code",
      "source": [
        "index=train['education_level'].value_counts().index\n",
        "values=train['education_level'].value_counts()\n",
        "plt.figure(figsize=(16,8))\n",
        "plt.pie(values,labels=index,autopct=\"%1.1f%%\",wedgeprops={'edgecolor':'black'},explode=[0.1,0,0])\n",
        "plt.show()"
      ],
      "metadata": {
        "id": "oMxo7V6QjTf7"
      },
      "execution_count": null,
      "outputs": []
    },
    {
      "cell_type": "code",
      "source": [
        "plt.figure(figsize=(12,6))\n",
        "sns.countplot(train['major_discipline'])\n",
        "plt.show()\n",
        "print(train['major_discipline'].value_counts())"
      ],
      "metadata": {
        "id": "sNFa_Acyj_hs"
      },
      "execution_count": null,
      "outputs": []
    },
    {
      "cell_type": "markdown",
      "source": [
        "Here STEM stands for Science, technology, engineering and mathematics..."
      ],
      "metadata": {
        "id": "oLk_im6ckb2n"
      }
    },
    {
      "cell_type": "code",
      "source": [
        "index=train['company_size'].value_counts().index\n",
        "values=train['company_size'].value_counts()\n",
        "plt.figure(figsize=(18,10))\n",
        "plt.xlabel('company_size')\n",
        "plt.pie(values,labels=index,autopct=\"%1.1f%%\",wedgeprops={\"edgecolor\":\"black\"},explode=[0,0,0.1,0,0,0,0,0])\n",
        "plt.show()"
      ],
      "metadata": {
        "id": "EEMWmbTdkS5W"
      },
      "execution_count": null,
      "outputs": []
    },
    {
      "cell_type": "code",
      "source": [
        "index=train['company_type'].value_counts().index\n",
        "values=train['company_type'].value_counts()\n",
        "plt.figure(figsize=(12,6))\n",
        "plt.bar(index, values, color ='#01153E')\n",
        "plt.xlabel(\"company_type\")\n",
        "plt.ylabel(\"count\")\n",
        "plt.show()"
      ],
      "metadata": {
        "id": "36dK9AJwk_4C"
      },
      "execution_count": null,
      "outputs": []
    },
    {
      "cell_type": "code",
      "source": [
        "plt.figure(figsize=(12,6))\n",
        "sns.distplot(train['training_hours'],color='maroon')\n",
        "plt.show()"
      ],
      "metadata": {
        "id": "7-JZR5rplB7D"
      },
      "execution_count": null,
      "outputs": []
    },
    {
      "cell_type": "code",
      "source": [
        "train.head()"
      ],
      "metadata": {
        "id": "4l44wkeklQew"
      },
      "execution_count": null,
      "outputs": []
    },
    {
      "cell_type": "code",
      "source": [
        "train['experience'].value_counts()"
      ],
      "metadata": {
        "id": "qldS-DSJlauO"
      },
      "execution_count": null,
      "outputs": []
    },
    {
      "cell_type": "markdown",
      "source": [
        "Only >20 years experience has a large number of values than other. So, there is no need to compare them on that basis as it will be in appropriate. So, we will use data of only exp>20..."
      ],
      "metadata": {
        "id": "-2DVRf5O59Fe"
      }
    },
    {
      "cell_type": "code",
      "source": [
        "exp_20=train.loc[train['experience']=='>20']"
      ],
      "metadata": {
        "id": "PI_nalM5lfg8"
      },
      "execution_count": null,
      "outputs": []
    },
    {
      "cell_type": "code",
      "source": [
        "exp_20.head()"
      ],
      "metadata": {
        "id": "LSxz8cF96K1o"
      },
      "execution_count": null,
      "outputs": []
    },
    {
      "cell_type": "code",
      "source": [
        "plt.figure(figsize=(12,6))\n",
        "sns.distplot(exp_20['training_hours'],color='maroon')\n",
        "plt.show()\n"
      ],
      "metadata": {
        "id": "8nUElClC6PKk"
      },
      "execution_count": null,
      "outputs": []
    },
    {
      "cell_type": "code",
      "source": [
        "plt.figure(figsize=(12,6))\n",
        "sns.countplot(exp_20['company_size'])\n",
        "plt.show()"
      ],
      "metadata": {
        "id": "_FJ2do5Wq_86"
      },
      "execution_count": null,
      "outputs": []
    },
    {
      "cell_type": "markdown",
      "source": [
        "We can see that people who have experience greater than 20 are even highest in a small company_size and we can also see that more are in company_size in 10000+ which is appropriate according to the condition.."
      ],
      "metadata": {
        "id": "AjrgnWLa7F__"
      }
    },
    {
      "cell_type": "code",
      "source": [
        "plt.figure(figsize=(12,6))\n",
        "sns.countplot(exp_20['company_type'])\n",
        "plt.show()\n"
      ],
      "metadata": {
        "id": "3Me__Xnd6-ZJ"
      },
      "execution_count": null,
      "outputs": []
    },
    {
      "cell_type": "code",
      "source": [
        "train.head()"
      ],
      "metadata": {
        "id": "aDPPmTAe7gWQ"
      },
      "execution_count": null,
      "outputs": []
    },
    {
      "cell_type": "markdown",
      "source": [
        "Changing target variable to integer...\n",
        "\n"
      ],
      "metadata": {
        "id": "he79lVXf8P2t"
      }
    },
    {
      "cell_type": "code",
      "source": [
        "train['target']=train['target'].astype('int64')"
      ],
      "metadata": {
        "id": "vI5dbV-X8Q8V"
      },
      "execution_count": null,
      "outputs": []
    },
    {
      "cell_type": "markdown",
      "source": [
        "Comparing features with target...\n",
        "\n",
        "0-Not looking for job change , 1-Looking for job change"
      ],
      "metadata": {
        "id": "Ji3OOtZN8Xy0"
      }
    },
    {
      "cell_type": "code",
      "source": [
        "plt.figure(figsize=(12,6))\n",
        "sns.countplot(x=\"gender\",hue=\"target\",data=train,palette=['#3D1C02',\"#AAA602\"])\n",
        "plt.show()"
      ],
      "metadata": {
        "id": "G96ku_eh8aq5"
      },
      "execution_count": null,
      "outputs": []
    },
    {
      "cell_type": "code",
      "source": [
        "plt.figure(figsize=(12,6))\n",
        "sns.countplot(x=\"relevent_experience\",hue=\"target\",data=train,palette=['#8C000F',\"#F0E68C\"])\n",
        "plt.show()"
      ],
      "metadata": {
        "id": "6FrA1Su38tY9"
      },
      "execution_count": null,
      "outputs": []
    },
    {
      "cell_type": "code",
      "source": [
        "plt.figure(figsize=(12,6))\n",
        "sns.countplot(x=\"experience\",hue=\"target\",data=train,palette=['#432371',\"#FAAE7B\"])\n",
        "plt.show()"
      ],
      "metadata": {
        "id": "pH66qkn08y8R"
      },
      "execution_count": null,
      "outputs": []
    },
    {
      "cell_type": "code",
      "source": [
        "plt.figure(figsize=(12,6))\n",
        "sns.countplot(x=\"company_size\",hue=\"target\",data=train,palette=['#054907',\"#D2691E\"])\n",
        "plt.show()\n"
      ],
      "metadata": {
        "id": "wAA2sL0P815E"
      },
      "execution_count": null,
      "outputs": []
    },
    {
      "cell_type": "code",
      "source": [
        "plt.figure(figsize=(12,6))\n",
        "sns.countplot(x=\"company_type\",hue=\"target\",data=train,palette=['#580F41',\"#FFC0CB\"])\n",
        "plt.show()\n"
      ],
      "metadata": {
        "id": "OROg-Fxn89BU"
      },
      "execution_count": null,
      "outputs": []
    },
    {
      "cell_type": "code",
      "source": [
        "plt.figure(figsize=(12,6))\n",
        "sns.countplot(x=\"last_new_job\",hue=\"target\",data=train,palette=['#6E750E',\"#66DAB6\"])\n",
        "plt.show()\n"
      ],
      "metadata": {
        "id": "ZnISw0rV9Gz0"
      },
      "execution_count": null,
      "outputs": []
    },
    {
      "cell_type": "code",
      "source": [
        "train.head()"
      ],
      "metadata": {
        "id": "8hy2RHUw9Yxn"
      },
      "execution_count": null,
      "outputs": []
    },
    {
      "cell_type": "code",
      "source": [
        "train['relevent_experience']=train['relevent_experience'].replace({'No relevent experience':0,'Has relevent experience':1})"
      ],
      "metadata": {
        "id": "7C_23Vis9eE7"
      },
      "execution_count": null,
      "outputs": []
    },
    {
      "cell_type": "markdown",
      "source": [
        "Now we will use get_dummies for those columns who have more than 2 categorical values as it works more accurately when we predict our values as our target is in 2 categorical values manner..."
      ],
      "metadata": {
        "id": "r00Rx8Hx9oFV"
      }
    },
    {
      "cell_type": "code",
      "source": [
        "dummies=pd.get_dummies(train[['enrolled_university']])\n",
        "train = pd.concat([train.drop(['enrolled_university'],axis=1), dummies],axis=1)"
      ],
      "metadata": {
        "id": "1PXqd7-H9rmg"
      },
      "execution_count": null,
      "outputs": []
    },
    {
      "cell_type": "code",
      "source": [
        "dummies=pd.get_dummies(train[['gender']])\n",
        "train = pd.concat([train.drop(['gender'],axis=1), dummies],axis=1)"
      ],
      "metadata": {
        "id": "c65LTLal92qS"
      },
      "execution_count": null,
      "outputs": []
    },
    {
      "cell_type": "markdown",
      "source": [
        "I am dropping here education level as when i tested it with get_dummies than one value was making more column in test dataset as that value droppped from train in dropna, thus increasing the columns in test dataset..."
      ],
      "metadata": {
        "id": "hu_DhH6B9-TD"
      }
    },
    {
      "cell_type": "code",
      "source": [
        "train=train.drop(\"education_level\",axis=1)"
      ],
      "metadata": {
        "id": "HYcqVIbN9_i4"
      },
      "execution_count": null,
      "outputs": []
    },
    {
      "cell_type": "code",
      "source": [
        "dummies=pd.get_dummies(train[['major_discipline']])\n",
        "train = pd.concat([train.drop(['major_discipline'],axis=1), dummies],axis=1)"
      ],
      "metadata": {
        "id": "CH5McguQ-GtX"
      },
      "execution_count": null,
      "outputs": []
    },
    {
      "cell_type": "code",
      "source": [
        "dummies=pd.get_dummies(train[['experience']])\n",
        "train = pd.concat([train.drop(['experience'],axis=1), dummies],axis=1)"
      ],
      "metadata": {
        "id": "cRb1N4jT-K5w"
      },
      "execution_count": null,
      "outputs": []
    },
    {
      "cell_type": "code",
      "source": [
        "dummies=pd.get_dummies(train[['company_size']])\n",
        "train = pd.concat([train.drop(['company_size'],axis=1), dummies],axis=1)"
      ],
      "metadata": {
        "id": "H-e3TvG8-PZi"
      },
      "execution_count": null,
      "outputs": []
    },
    {
      "cell_type": "code",
      "source": [
        "dummies=pd.get_dummies(train[['company_type']])\n",
        "train = pd.concat([train.drop(['company_type'],axis=1), dummies],axis=1)\n"
      ],
      "metadata": {
        "id": "AfiTkAiN-RV9"
      },
      "execution_count": null,
      "outputs": []
    },
    {
      "cell_type": "code",
      "source": [
        "dummies=pd.get_dummies(train[['last_new_job']])\n",
        "train = pd.concat([train.drop(['last_new_job'],axis=1), dummies],axis=1)\n",
        "\n"
      ],
      "metadata": {
        "id": "aAFJ4mXI-YFJ"
      },
      "execution_count": null,
      "outputs": []
    },
    {
      "cell_type": "markdown",
      "source": [
        "Similarly in test dataset"
      ],
      "metadata": {
        "id": "zUl4k2pf-gOu"
      }
    },
    {
      "cell_type": "code",
      "source": [
        "test.head()"
      ],
      "metadata": {
        "id": "6AF0eAlI-hi2"
      },
      "execution_count": null,
      "outputs": []
    },
    {
      "cell_type": "code",
      "source": [
        "test['relevent_experience']=test['relevent_experience'].replace({'No relevent experience':0,'Has relevent experience':1})\n"
      ],
      "metadata": {
        "id": "IiByjt8C-ocA"
      },
      "execution_count": null,
      "outputs": []
    },
    {
      "cell_type": "code",
      "source": [
        "dummies=pd.get_dummies(test[['gender']])\n",
        "test = pd.concat([test.drop(['gender'],axis=1), dummies],axis=1)"
      ],
      "metadata": {
        "id": "oyKCltnh-t9u"
      },
      "execution_count": null,
      "outputs": []
    },
    {
      "cell_type": "code",
      "source": [
        "dummies=pd.get_dummies(test[['enrolled_university']])\n",
        "test = pd.concat([test.drop(['enrolled_university'],axis=1), dummies],axis=1)\n",
        "test=test.drop(\"education_level\",axis=1)"
      ],
      "metadata": {
        "id": "lxSciAOL-twK"
      },
      "execution_count": null,
      "outputs": []
    },
    {
      "cell_type": "code",
      "source": [
        "dummies=pd.get_dummies(test[['major_discipline']])\n",
        "test = pd.concat([test.drop(['major_discipline'],axis=1), dummies],axis=1)"
      ],
      "metadata": {
        "id": "8edBE9_E-z0m"
      },
      "execution_count": null,
      "outputs": []
    },
    {
      "cell_type": "code",
      "source": [
        "dummies=pd.get_dummies(test[['experience']])\n",
        "test = pd.concat([test.drop(['experience'],axis=1), dummies],axis=1)"
      ],
      "metadata": {
        "id": "bs-7peS7-8Dk"
      },
      "execution_count": null,
      "outputs": []
    },
    {
      "cell_type": "code",
      "source": [
        "dummies=pd.get_dummies(test[['company_size']])\n",
        "test = pd.concat([test.drop(['company_size'],axis=1), dummies],axis=1)"
      ],
      "metadata": {
        "id": "AbTRIG12_Aho"
      },
      "execution_count": null,
      "outputs": []
    },
    {
      "cell_type": "code",
      "source": [
        "dummies=pd.get_dummies(test[['company_type']])\n",
        "test = pd.concat([test.drop(['company_type'],axis=1), dummies],axis=1)"
      ],
      "metadata": {
        "id": "vDI2BMLg_Gst"
      },
      "execution_count": null,
      "outputs": []
    },
    {
      "cell_type": "code",
      "source": [
        "dummies=pd.get_dummies(test[['last_new_job']])\n",
        "test = pd.concat([test.drop(['last_new_job'],axis=1), dummies],axis=1)"
      ],
      "metadata": {
        "id": "FGdgyB7K_IYV"
      },
      "execution_count": null,
      "outputs": []
    },
    {
      "cell_type": "code",
      "source": [
        "print(train.shape)\n",
        "print(test.shape)"
      ],
      "metadata": {
        "id": "5xfbr7JR_PES"
      },
      "execution_count": null,
      "outputs": []
    },
    {
      "cell_type": "markdown",
      "source": [
        "So we have done with this part as we can see that there is one more column present in train dataset which is target variable...\n",
        "\n"
      ],
      "metadata": {
        "id": "qdUaJPIO_afU"
      }
    },
    {
      "cell_type": "markdown",
      "source": [
        "## Machine **Learning**"
      ],
      "metadata": {
        "id": "J7IfCkpU_b4g"
      }
    },
    {
      "cell_type": "code",
      "source": [
        "train.columns"
      ],
      "metadata": {
        "id": "hUSl-vJY_WRe"
      },
      "execution_count": null,
      "outputs": []
    },
    {
      "cell_type": "markdown",
      "source": [
        "We will use .columns function as we have increased a lot of columns and will drop columns directly from the X which are not required..."
      ],
      "metadata": {
        "id": "jEiCyAFc_wGk"
      }
    },
    {
      "cell_type": "markdown",
      "source": [
        "# TRAIN TEST SPLITTING"
      ],
      "metadata": {
        "id": "D6M_0TIp_yBE"
      }
    },
    {
      "cell_type": "code",
      "source": [
        "X=train.drop(['enrollee_id','city','target'],axis=1)\n",
        "y=train[['target']]\n"
      ],
      "metadata": {
        "id": "o9WWCqGt_3uE"
      },
      "execution_count": null,
      "outputs": []
    },
    {
      "cell_type": "code",
      "source": [
        "import sklearn\n",
        "from sklearn.model_selection import train_test_split"
      ],
      "metadata": {
        "id": "po_zyeoh_-gn"
      },
      "execution_count": null,
      "outputs": []
    },
    {
      "cell_type": "code",
      "source": [
        "X_train,X_test,y_train,y_test=train_test_split(X,y,test_size=0.3,random_state=42)"
      ],
      "metadata": {
        "id": "LsxDdxNrAEcH"
      },
      "execution_count": null,
      "outputs": []
    },
    {
      "cell_type": "code",
      "source": [
        "print(X_train.shape)\n",
        "print(y_train.shape)\n",
        "print(X_test.shape)\n",
        "print(y_test.shape)"
      ],
      "metadata": {
        "id": "VcizhGWXAH-D"
      },
      "execution_count": null,
      "outputs": []
    },
    {
      "cell_type": "markdown",
      "source": [
        "Logistic Regression"
      ],
      "metadata": {
        "id": "PJ3IbzyFAmp7"
      }
    },
    {
      "cell_type": "code",
      "source": [
        "from sklearn.linear_model import LogisticRegression\n",
        "model=LogisticRegression()"
      ],
      "metadata": {
        "id": "5VwVaNaZAmTb"
      },
      "execution_count": null,
      "outputs": []
    },
    {
      "cell_type": "code",
      "source": [
        "model.fit(X_train,y_train)\n",
        "LogisticRegression()"
      ],
      "metadata": {
        "id": "B8WObG4IAvAw"
      },
      "execution_count": null,
      "outputs": []
    },
    {
      "cell_type": "code",
      "source": [
        "predictions=model.predict(X_test)"
      ],
      "metadata": {
        "id": "UAOv9B_UA1px"
      },
      "execution_count": null,
      "outputs": []
    },
    {
      "cell_type": "code",
      "source": [
        "model.score(X_test,y_test)"
      ],
      "metadata": {
        "id": "aHaw_KQQA7hT"
      },
      "execution_count": null,
      "outputs": []
    },
    {
      "cell_type": "markdown",
      "source": [
        "# Decision Tree Classifier"
      ],
      "metadata": {
        "id": "d31ohkvWA__n"
      }
    },
    {
      "cell_type": "code",
      "source": [
        "from sklearn.tree import DecisionTreeClassifier\n",
        "model_2=DecisionTreeClassifier()"
      ],
      "metadata": {
        "id": "sijtdxPpBDjh"
      },
      "execution_count": null,
      "outputs": []
    },
    {
      "cell_type": "code",
      "source": [
        "model_2.fit(X_train,y_train)"
      ],
      "metadata": {
        "id": "sQ4GCdIbBIyg"
      },
      "execution_count": null,
      "outputs": []
    },
    {
      "cell_type": "code",
      "source": [
        "predictions_2=model_2.predict(X_test)"
      ],
      "metadata": {
        "id": "4abNJLvoBK2J"
      },
      "execution_count": null,
      "outputs": []
    },
    {
      "cell_type": "code",
      "source": [
        "model_2.score(X_test,y_test)"
      ],
      "metadata": {
        "id": "9V9umhn6BPIH"
      },
      "execution_count": null,
      "outputs": []
    },
    {
      "cell_type": "markdown",
      "source": [
        "Random Forest Classifier"
      ],
      "metadata": {
        "id": "8m0zvRCKBU-u"
      }
    },
    {
      "cell_type": "code",
      "source": [
        "from sklearn.ensemble import RandomForestClassifier\n",
        "model_3=RandomForestClassifier()"
      ],
      "metadata": {
        "id": "GBHf96ElBSnl"
      },
      "execution_count": null,
      "outputs": []
    },
    {
      "cell_type": "code",
      "source": [
        "model_3.fit(X_train,y_train)\n"
      ],
      "metadata": {
        "colab": {
          "base_uri": "https://localhost:8080/"
        },
        "id": "b3yr-jZ2BZo2",
        "outputId": "26b88835-a543-4ee6-8801-8bd727c3c44e"
      },
      "execution_count": null,
      "outputs": [
        {
          "output_type": "execute_result",
          "data": {
            "text/plain": [
              "RandomForestClassifier()"
            ]
          },
          "metadata": {},
          "execution_count": 105
        }
      ]
    },
    {
      "cell_type": "code",
      "source": [
        "predictions_3=model_3.predict(X_test)"
      ],
      "metadata": {
        "id": "bt7CtMTOBgmG"
      },
      "execution_count": null,
      "outputs": []
    },
    {
      "cell_type": "code",
      "source": [
        "model_3.score(X_test,y_test)"
      ],
      "metadata": {
        "id": "Yus6lkheBknF"
      },
      "execution_count": null,
      "outputs": []
    },
    {
      "cell_type": "markdown",
      "source": [
        "# KNeighbors Classifier"
      ],
      "metadata": {
        "id": "qPSW2AkFBoM4"
      }
    },
    {
      "cell_type": "code",
      "source": [
        "from sklearn.neighbors import KNeighborsClassifier\n",
        "model_4=KNeighborsClassifier()"
      ],
      "metadata": {
        "id": "14ghsNOfBqLg"
      },
      "execution_count": null,
      "outputs": []
    },
    {
      "cell_type": "code",
      "source": [
        "model_4.fit(X_train,y_train)"
      ],
      "metadata": {
        "id": "sTCdoZ3pBu_4"
      },
      "execution_count": null,
      "outputs": []
    },
    {
      "cell_type": "code",
      "source": [
        "predictions_4=model_4.predict(X_test)"
      ],
      "metadata": {
        "id": "vjX8dVTZBycg"
      },
      "execution_count": null,
      "outputs": []
    },
    {
      "cell_type": "code",
      "source": [
        "model_4.score(X_test,y_test)\n",
        "\n"
      ],
      "metadata": {
        "id": "Rzw4iFGGB5PW"
      },
      "execution_count": null,
      "outputs": []
    },
    {
      "cell_type": "markdown",
      "source": [
        "## SVM"
      ],
      "metadata": {
        "id": "MoxzgU9LB-Z0"
      }
    },
    {
      "cell_type": "code",
      "source": [
        "from sklearn.svm import SVC"
      ],
      "metadata": {
        "id": "YK9-vCcoCAIc"
      },
      "execution_count": null,
      "outputs": []
    },
    {
      "cell_type": "code",
      "source": [
        "model_5=SVC()"
      ],
      "metadata": {
        "id": "-RStI6NlCBye"
      },
      "execution_count": null,
      "outputs": []
    },
    {
      "cell_type": "code",
      "source": [
        "model_5.fit(X_train,y_train)\n"
      ],
      "metadata": {
        "id": "DQI5RLbhCIgh"
      },
      "execution_count": null,
      "outputs": []
    },
    {
      "cell_type": "code",
      "source": [
        "predictions_5=model_5.predict(X_test)"
      ],
      "metadata": {
        "id": "ilTwxN6LCNNs"
      },
      "execution_count": null,
      "outputs": []
    },
    {
      "cell_type": "code",
      "source": [
        "model_5.score(X_test,y_test)"
      ],
      "metadata": {
        "id": "tGiy1J3lCQMP"
      },
      "execution_count": null,
      "outputs": []
    },
    {
      "cell_type": "markdown",
      "source": [
        "So now maximum score in prediction is of Random Forest Classifier. So now we will predict our target variable by using this algorithm..."
      ],
      "metadata": {
        "id": "ukYCtz-JCUfw"
      }
    },
    {
      "cell_type": "code",
      "source": [
        "test=test.drop(['enrollee_id','city'],axis=1)"
      ],
      "metadata": {
        "id": "pns9grqzCWPx"
      },
      "execution_count": null,
      "outputs": []
    },
    {
      "cell_type": "code",
      "source": [
        "model_3.fit(X,y)"
      ],
      "metadata": {
        "id": "xvzNrUXECajn"
      },
      "execution_count": null,
      "outputs": []
    },
    {
      "cell_type": "code",
      "source": [
        "final_predictions=model_3.predict(test)\n"
      ],
      "metadata": {
        "id": "tRmdAq-RCdv1"
      },
      "execution_count": null,
      "outputs": []
    },
    {
      "cell_type": "code",
      "source": [
        "final_predictions"
      ],
      "metadata": {
        "id": "MhUR6TMOChU9"
      },
      "execution_count": null,
      "outputs": []
    },
    {
      "cell_type": "code",
      "source": [
        "with np.printoptions(threshold=np.inf):\n",
        "    print(final_predictions)\n"
      ],
      "metadata": {
        "id": "yUjFL-qNClNl"
      },
      "execution_count": null,
      "outputs": []
    },
    {
      "cell_type": "markdown",
      "source": [
        "# So, At the end we got our final predictions and according to data we knew that a lot of people were not looking for a job change. They wanted to remain in the same job...¶"
      ],
      "metadata": {
        "id": "_6iumfX3C6zc"
      }
    }
  ]
}